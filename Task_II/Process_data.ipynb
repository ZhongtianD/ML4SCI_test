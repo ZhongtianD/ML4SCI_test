{
 "cells": [
  {
   "cell_type": "code",
   "execution_count": 1,
   "metadata": {},
   "outputs": [],
   "source": [
    "import numpy as np\n",
    "import energyflow\n",
    "import vector"
   ]
  },
  {
   "cell_type": "code",
   "execution_count": 2,
   "metadata": {},
   "outputs": [
    {
     "name": "stdout",
     "output_type": "stream",
     "text": [
      "Downloading QG_jets.npz from https://www.dropbox.com/s/fclsl7pukcpobsb/QG_jets.npz?dl=1 to ./data/datasets\n",
      "Downloading QG_jets_1.npz from https://www.dropbox.com/s/ztzd1a6lkmgovuy/QG_jets_1.npz?dl=1 to ./data/datasets\n",
      "Downloading QG_jets_2.npz from https://www.dropbox.com/s/jzgc9e786tbk1m5/QG_jets_2.npz?dl=1 to ./data/datasets\n",
      "Downloading QG_jets_3.npz from https://www.dropbox.com/s/tiwz2ck3wnzvlcr/QG_jets_3.npz?dl=1 to ./data/datasets\n",
      "Downloading QG_jets_4.npz from https://www.dropbox.com/s/3miwek1n0brbd2i/QG_jets_4.npz?dl=1 to ./data/datasets\n",
      "Downloading QG_jets_5.npz from https://www.dropbox.com/s/tsq80wc6ngen9kn/QG_jets_5.npz?dl=1 to ./data/datasets\n",
      "Downloading QG_jets_6.npz from https://www.dropbox.com/s/5oba2h15ufa57ie/QG_jets_6.npz?dl=1 to ./data/datasets\n",
      "Downloading QG_jets_7.npz from https://www.dropbox.com/s/npl6b2rts82r1ya/QG_jets_7.npz?dl=1 to ./data/datasets\n",
      "Downloading QG_jets_8.npz from https://www.dropbox.com/s/7pldxfqdb4n0kaw/QG_jets_8.npz?dl=1 to ./data/datasets\n",
      "Downloading QG_jets_9.npz from https://www.dropbox.com/s/isw4clv7n370nfb/QG_jets_9.npz?dl=1 to ./data/datasets\n"
     ]
    }
   ],
   "source": [
    "#I access the data via energyflow to help organize.\n",
    "QG_data = energyflow.qg_jets.load(num_data=1000_000, pad=True, ncol=4, generator='pythia',\n",
    "                        with_bc=False, cache_dir='./data')"
   ]
  },
  {
   "cell_type": "code",
   "execution_count": 3,
   "metadata": {},
   "outputs": [],
   "source": [
    "splits = ['train', 'val', 'test']\n",
    "data = {type:{'raw':None,'label':None} for type in splits}\n",
    "(data['train']['raw'],  data['val']['raw'],   data['test']['raw'],\n",
    "data['train']['label'], data['val']['label'], data['test']['label']) = \\\n",
    "    energyflow.utils.data_split(*QG_data, train=0.8, val=0.1, test=0.1, shuffle = False)"
   ]
  },
  {
   "cell_type": "code",
   "execution_count": 86,
   "metadata": {},
   "outputs": [
    {
     "name": "stderr",
     "output_type": "stream",
     "text": [
      "<ipython-input-86-9876b5ab588b>:9: RuntimeWarning: divide by zero encountered in log\n",
      "  part_pt_log = np.where(p4s_pt > 0, np.log(p4s_pt), 0)\n",
      "<ipython-input-86-9876b5ab588b>:11: RuntimeWarning: divide by zero encountered in log\n",
      "  part_e_log = np.where(p4s_e > 0, np.log(p4s_e), 0)\n",
      "<ipython-input-86-9876b5ab588b>:14: RuntimeWarning: divide by zero encountered in log\n",
      "  part_logptrel = np.where(pt_rel > 0, np.log(pt_rel), pt_rel)\n",
      "<ipython-input-86-9876b5ab588b>:15: RuntimeWarning: divide by zero encountered in log\n",
      "  part_logerel = np.where(e_rel > 0, np.log(e_rel), e_rel)\n"
     ]
    }
   ],
   "source": [
    "for split, value in data.items():\n",
    "    p4s = energyflow.p4s_from_ptyphipids(value['raw'],error_on_unknown=True)\n",
    "    JetP4 = p4s.sum(axis=1, keepdims=True)\n",
    "    p4s = p4s.view([(\"E\", float),(\"px\", float),(\"py\", float),(\"pz\", float)]).view(vector.MomentumNumpy4D)\n",
    "    JetP4 = JetP4.view([(\"E\", float),(\"px\", float),(\"py\", float),(\"pz\", float)]).view(vector.MomentumNumpy4D)\n",
    "    part_etarel = p4s.deltaeta(JetP4)\n",
    "    part_phirel = p4s.deltaphi(JetP4)\n",
    "    p4s_pt = p4s.pt\n",
    "    part_pt_log = np.where(p4s_pt > 0, np.log(p4s_pt), 0)\n",
    "    p4s_e = p4s.e\n",
    "    part_e_log = np.where(p4s_e > 0, np.log(p4s_e), 0)\n",
    "    pt_rel = p4s_pt/JetP4.pt\n",
    "    e_rel = p4s_e/JetP4.e\n",
    "    part_logptrel = np.where(pt_rel > 0, np.log(pt_rel), pt_rel)\n",
    "    part_logerel = np.where(e_rel > 0, np.log(e_rel), e_rel)\n",
    "    part_deltaR = p4s.deltaR(JetP4)\n",
    "    np.save('./data/Data_'+split,np.concatenate((part_etarel,part_phirel,part_pt_log,part_e_log,part_logptrel,part_logerel,part_deltaR),axis = 2))\n",
    "    np.save('./data/Label_'+split,value['label'])"
   ]
  },
  {
   "cell_type": "code",
   "execution_count": 70,
   "metadata": {},
   "outputs": [],
   "source": [
    "P4s = p4s\n",
    "JetP4 = P4s.sum(axis=1, keepdims=True)"
   ]
  },
  {
   "cell_type": "code",
   "execution_count": 29,
   "metadata": {},
   "outputs": [],
   "source": [
    "# dtype = [('E', 'f4'), ('px', 'f4'), ('py', 'f4'), ('pz', 'f4')]\n",
    "# P4s = np.array(P4s,dtype=dtype)\n",
    "# JetP4  = np.array(JetP4,dtype=dtype)"
   ]
  },
  {
   "cell_type": "code",
   "execution_count": 30,
   "metadata": {},
   "outputs": [],
   "source": [
    "import vector"
   ]
  },
  {
   "cell_type": "code",
   "execution_count": 71,
   "metadata": {},
   "outputs": [],
   "source": [
    "P4s = P4s.view([(\"E\", float),(\"px\", float),(\"py\", float),(\"pz\", float)]).view(vector.MomentumNumpy4D)\n",
    "JetP4 = JetP4.view([(\"E\", float),(\"px\", float),(\"py\", float),(\"pz\", float)]).view(vector.MomentumNumpy4D)"
   ]
  },
  {
   "cell_type": "code",
   "execution_count": 90,
   "metadata": {},
   "outputs": [],
   "source": [
    "Data = np.load('./data/Label_train.npy')"
   ]
  },
  {
   "cell_type": "code",
   "execution_count": 94,
   "metadata": {},
   "outputs": [
    {
     "data": {
      "text/plain": [
       "array([1., 1., 1., ..., 0., 0., 1.])"
      ]
     },
     "execution_count": 94,
     "metadata": {},
     "output_type": "execute_result"
    }
   ],
   "source": [
    "Data"
   ]
  },
  {
   "cell_type": "code",
   "execution_count": null,
   "metadata": {},
   "outputs": [],
   "source": []
  }
 ],
 "metadata": {
  "kernelspec": {
   "display_name": "Python 3",
   "language": "python",
   "name": "python3"
  },
  "language_info": {
   "codemirror_mode": {
    "name": "ipython",
    "version": 3
   },
   "file_extension": ".py",
   "mimetype": "text/x-python",
   "name": "python",
   "nbconvert_exporter": "python",
   "pygments_lexer": "ipython3",
   "version": "3.8.3"
  }
 },
 "nbformat": 4,
 "nbformat_minor": 4
}
