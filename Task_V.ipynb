{
 "cells": [
  {
   "cell_type": "code",
   "execution_count": 1,
   "metadata": {},
   "outputs": [],
   "source": [
    "import pennylane as qml\n",
    "from pennylane import numpy as np"
   ]
  },
  {
   "cell_type": "markdown",
   "metadata": {},
   "source": [
    "A quantum graph neural network can be implemented by introducing a Hamiltonian that incorporates information about both nodes and edges. Specifically, single-qubit rotations can be employed to embed node features, while two-qubit operators can be utilized to embed edge features. In the simplest case, we can introduce an Ising model Hamiltonian, where an edge exists between neighboring nodes."
   ]
  },
  {
   "cell_type": "code",
   "execution_count": 2,
   "metadata": {},
   "outputs": [],
   "source": [
    "dev = qml.device(\"default.qubit\", wires=4)\n",
    "n_wires = 4\n",
    "n_layers = 5\n",
    "\n",
    "graph = [(0, 1), (0, 3), (1, 2), (2, 3)]\n",
    "\n",
    "# unitary operator U_B with parameter beta\n",
    "def Nodes(x):\n",
    "    for wire in range(n_wires):\n",
    "        qml.RX(x[wire], wires=wire)\n",
    "\n",
    "\n",
    "# unitary operator U_C with parameter gamma\n",
    "def Edges(g,graph):\n",
    "    for edge in graph:\n",
    "        wire1 = edge[0]\n",
    "        wire2 = edge[1]\n",
    "        qml.CNOT(wires=[wire1, wire2])\n",
    "        qml.RZ(g[wire1, wire2], wires=wire2)\n",
    "        qml.CNOT(wires=[wire1, wire2])\n",
    "\n",
    "@qml.qnode(dev)\n",
    "def Task_4(X,G,graph):\n",
    "\n",
    "    for wire in range(n_wires):\n",
    "        qml.Hadamard(wires=wire)\n",
    "\n",
    "    for i in range(n_layers):\n",
    "        Edges(G[i],graph)\n",
    "        Nodes(X[i])\n",
    "\n",
    "    return qml.expval(qml.PauliZ(0))"
   ]
  },
  {
   "cell_type": "code",
   "execution_count": 3,
   "metadata": {},
   "outputs": [
    {
     "name": "stdout",
     "output_type": "stream",
     "text": [
      "\n",
      "Circuit1:\n",
      "0: ──H─╭●───────────╭●─╭●───────────╭●──RX(0.66)────────────────────────╭●─────────────────\n",
      "1: ──H─╰X──RZ(0.98)─╰X─│────────────│──╭●──────────────────╭●──RX(0.79)─╰X─────────RZ(1.00)\n",
      "2: ──H─────────────────│────────────│──╰X─────────RZ(0.20)─╰X─╭●──────────────────╭●───────\n",
      "3: ──H─────────────────╰X──RZ(0.35)─╰X────────────────────────╰X─────────RZ(0.88)─╰X───────\n",
      "\n",
      "──╭●────────╭●───────────╭●──RX(0.06)────────────────────────╭●──────────────────╭●────────╭●\n",
      "──╰X────────│────────────│──╭●──────────────────╭●──RX(0.46)─╰X─────────RZ(0.01)─╰X────────│─\n",
      "───RX(0.26)─│────────────│──╰X─────────RZ(0.81)─╰X─╭●──────────────────╭●─────────RX(0.70)─│─\n",
      "───RX(0.55)─╰X──RZ(0.24)─╰X────────────────────────╰X─────────RZ(0.68)─╰X─────────RX(0.91)─╰X\n",
      "\n",
      "────────────╭●──RX(0.43)────────────────────────╭●──────────────────╭●────────╭●───────────╭●\n",
      "────────────│──╭●──────────────────╭●──RX(0.82)─╰X─────────RZ(0.94)─╰X────────│────────────│─\n",
      "────────────│──╰X─────────RZ(0.06)─╰X─╭●──────────────────╭●─────────RX(0.16)─│────────────│─\n",
      "───RZ(0.75)─╰X────────────────────────╰X─────────RZ(0.42)─╰X─────────RX(0.46)─╰X──RZ(0.07)─╰X\n",
      "\n",
      "───RX(0.31)────────────────────────╭●──────────────────╭●────────╭●───────────╭●──RX(0.57)──────────\n",
      "──╭●──────────────────╭●──RX(0.19)─╰X─────────RZ(0.72)─╰X────────│────────────│──╭●─────────────────\n",
      "──╰X─────────RZ(0.42)─╰X─╭●──────────────────╭●─────────RX(0.98)─│────────────│──╰X─────────RZ(0.15)\n",
      "─────────────────────────╰X─────────RZ(0.07)─╰X─────────RX(0.23)─╰X──RZ(0.07)─╰X────────────────────\n",
      "\n",
      "──────────────────────────────────────┤  <Z>\n",
      "──╭●──RX(0.76)────────────────────────┤     \n",
      "──╰X─╭●──────────────────╭●──RX(0.21)─┤     \n",
      "─────╰X─────────RZ(0.98)─╰X──RX(0.45)─┤     \n"
     ]
    }
   ],
   "source": [
    "X = np.random.uniform(size = (n_layers,n_wires))\n",
    "G = np.random.uniform(size = (n_layers,n_wires,n_wires))\n",
    "Net = Task_4(X,G,graph)\n",
    "circuit1_1 = qml.draw(Task_4)(X,G,graph)\n",
    "print(\"\\nCircuit1:\")\n",
    "print(circuit1_1)"
   ]
  },
  {
   "cell_type": "code",
   "execution_count": null,
   "metadata": {},
   "outputs": [],
   "source": []
  }
 ],
 "metadata": {
  "kernelspec": {
   "display_name": "Python 3",
   "language": "python",
   "name": "python3"
  },
  "language_info": {
   "codemirror_mode": {
    "name": "ipython",
    "version": 3
   },
   "file_extension": ".py",
   "mimetype": "text/x-python",
   "name": "python",
   "nbconvert_exporter": "python",
   "pygments_lexer": "ipython3",
   "version": "3.8.3"
  }
 },
 "nbformat": 4,
 "nbformat_minor": 4
}
