{
 "cells": [
  {
   "cell_type": "code",
   "execution_count": 1,
   "metadata": {},
   "outputs": [],
   "source": [
    "import pennylane as qml\n",
    "from pennylane import numpy as np"
   ]
  },
  {
   "cell_type": "code",
   "execution_count": 2,
   "metadata": {},
   "outputs": [],
   "source": [
    "dev = qml.device(\"default.qubit\", wires=5)\n",
    "\n",
    "@qml.qnode(dev)\n",
    "def Task1_1():\n",
    "    # Apply Hadamard operation on every qubit\n",
    "    for i in range(5):\n",
    "        qml.Hadamard(wires=i)\n",
    "\n",
    "    #Apply CNOT operation on (0, 1), (1,2), (2,3), (3,4) \n",
    "    for i in range(4):\n",
    "        qml.CNOT(wires=[i, i+1])\n",
    "\n",
    "    #SWAP (0, 4)\n",
    "    qml.SWAP(wires=[0, 4])\n",
    "\n",
    "    #Rotate X with pi/2 on any qubit\n",
    "    qml.RX(np.pi/2, wires=0)\n",
    "\n",
    "    return qml.state()"
   ]
  },
  {
   "cell_type": "code",
   "execution_count": 3,
   "metadata": {},
   "outputs": [
    {
     "name": "stdout",
     "output_type": "stream",
     "text": [
      "\n",
      "Circuit1:\n",
      "0: ──H─╭●──────────╭SWAP──RX(1.57)─┤  State\n",
      "1: ──H─╰X─╭●───────│───────────────┤  State\n",
      "2: ──H────╰X─╭●────│───────────────┤  State\n",
      "3: ──H───────╰X─╭●─│───────────────┤  State\n",
      "4: ──H──────────╰X─╰SWAP───────────┤  State\n"
     ]
    }
   ],
   "source": [
    "circuit1_1 = qml.draw(Task1_1)()\n",
    "print(\"\\nCircuit1:\")\n",
    "print(circuit1_1)"
   ]
  },
  {
   "cell_type": "code",
   "execution_count": 4,
   "metadata": {},
   "outputs": [],
   "source": [
    "@qml.qnode(dev)\n",
    "def Task1_2():\n",
    "    #Apply a Hadamard gate to the first qubit\n",
    "    qml.Hadamard(wires=0)\n",
    "\n",
    "    #Rotate the second qubit by pi/3 around X\n",
    "    qml.RX(np.pi / 3, wires=1)\n",
    "\n",
    "    #Apply Hadamard gates to the third and fourth qubits\n",
    "    qml.Hadamard(wires=2)\n",
    "    qml.Hadamard(wires=3)\n",
    "\n",
    "    #Perform swap test\n",
    "    qml.Hadamard(wires=4)\n",
    "    qml.CSWAP(wires=[4, 0, 2])\n",
    "    qml.CSWAP(wires=[4, 1, 3])\n",
    "    qml.Hadamard(wires=4)\n",
    "\n",
    "    #Measure the extra qubit in the computational basis\n",
    "    return qml.probs(wires=[4])\n",
    "    #Or measure in the z basis\n",
    "#     return qml.expval(qml.PauliZ(4))"
   ]
  },
  {
   "cell_type": "code",
   "execution_count": 5,
   "metadata": {},
   "outputs": [
    {
     "name": "stdout",
     "output_type": "stream",
     "text": [
      "Expectation value of the swap test in computational basis: 0.24999999999999978\n",
      "\n",
      "Circuit2:\n",
      "0: ──H────────╭SWAP──────────┤       \n",
      "1: ──RX(1.05)─│─────╭SWAP────┤       \n",
      "2: ──H────────├SWAP─│────────┤       \n",
      "3: ──H────────│─────├SWAP────┤       \n",
      "4: ──H────────╰●────╰●─────H─┤  Probs\n"
     ]
    }
   ],
   "source": [
    "result1_2 = Task1_2()\n",
    "print(\"Expectation value of the swap test in computational basis:\", result1_2[1])\n",
    "\n",
    "circuit1_2 = qml.draw(Task1_2)()\n",
    "print(\"\\nCircuit2:\")\n",
    "print(circuit1_2)"
   ]
  }
 ],
 "metadata": {
  "kernelspec": {
   "display_name": "Python 3",
   "language": "python",
   "name": "python3"
  },
  "language_info": {
   "codemirror_mode": {
    "name": "ipython",
    "version": 3
   },
   "file_extension": ".py",
   "mimetype": "text/x-python",
   "name": "python",
   "nbconvert_exporter": "python",
   "pygments_lexer": "ipython3",
   "version": "3.8.3"
  }
 },
 "nbformat": 4,
 "nbformat_minor": 4
}
